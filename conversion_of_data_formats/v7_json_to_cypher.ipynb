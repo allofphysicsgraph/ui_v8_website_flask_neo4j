{
 "cells": [
  {
   "cell_type": "markdown",
   "id": "c54104c4-c4e8-4bbb-89f6-0ce36577c8b6",
   "metadata": {},
   "source": [
    "Convert the Physics Derivation Graph's v7 JSON format to Neo4j Cypher\n",
    "\n",
    "To load the data into ui_v8,\n",
    "\n",
    "```bash\n",
    "docker exec `docker ps | grep community | cut -d' ' -f1` bin/cypher-shell --file dumping_grounds/symbols.cypher \n",
    "docker exec `docker ps | grep community | cut -d' ' -f1` bin/cypher-shell --file dumping_grounds/infrules.cypher \n",
    "```"
   ]
  },
  {
   "cell_type": "code",
   "execution_count": 1,
   "id": "8602c4dc-2463-4b97-bbb2-32f4d90fccc8",
   "metadata": {},
   "outputs": [],
   "source": [
    "import json\n",
    "#import pandas\n",
    "import time\n",
    "import re\n",
    "import random"
   ]
  },
  {
   "cell_type": "code",
   "execution_count": 2,
   "id": "b7443d48-171d-4f7b-a6ec-5e7687c17432",
   "metadata": {},
   "outputs": [],
   "source": [
    "SYMBOL_PREFIX=\"000\"\n",
    "INFRULE_PREFIX=\"111\"\n",
    "OPERATOR_PREFIX=\"2222\"\n",
    "\n",
    "random.seed(10)"
   ]
  },
  {
   "cell_type": "markdown",
   "id": "cdcd9b95-9af0-4bde-931c-c34c432512b6",
   "metadata": {},
   "source": [
    "# data"
   ]
  },
  {
   "cell_type": "code",
   "execution_count": 3,
   "id": "bfbf85e0-2548-45a4-bfc0-64a862d98912",
   "metadata": {},
   "outputs": [],
   "source": [
    "# from v7_pickle_web_interface/flask/\n",
    "with open('data.json','r') as file_handle:\n",
    "    data = json.loads(file_handle.read())"
   ]
  },
  {
   "cell_type": "code",
   "execution_count": 4,
   "id": "6a4a14a5-c7d2-4b87-bcb9-5566a83f06b3",
   "metadata": {},
   "outputs": [
    {
     "data": {
      "text/plain": [
       "dict_keys(['derivations', 'expr local to global', 'expressions', 'inference rules', 'measures', 'operators', 'symbols', 'units'])"
      ]
     },
     "execution_count": 4,
     "metadata": {},
     "output_type": "execute_result"
    }
   ],
   "source": [
    "data.keys()"
   ]
  },
  {
   "cell_type": "markdown",
   "id": "78480486-511c-4f29-b661-4879176d06af",
   "metadata": {},
   "source": [
    "# expressions [done]"
   ]
  },
  {
   "cell_type": "code",
   "execution_count": 5,
   "id": "7ce32263-9ab2-4b7d-ad87-2d52e760431f",
   "metadata": {},
   "outputs": [
    {
     "name": "stdout",
     "output_type": "stream",
     "text": [
      "symb('pdg0001939') and another symb('pdg0009991') for\n"
     ]
    }
   ],
   "source": [
    "my_str = \"symb('pdg1939') and another symb('pdg9991') for\"\n",
    "\n",
    "result = re.sub(r\"pdg(\\d\\d\\d\\d)\", r\"pdg\"+SYMBOL_PREFIX+\"\\\\1\", my_str)\n",
    "\n",
    "print(result)"
   ]
  },
  {
   "cell_type": "code",
   "execution_count": 6,
   "id": "fe505815-d5f5-4ef8-82da-1e0c2afe5261",
   "metadata": {
    "tags": []
   },
   "outputs": [],
   "source": [
    "str_to_prnt = \"\"\n",
    "for expr_ID, expr_dict in data['expressions'].items():\n",
    "\n",
    "    expr_dict['latex'] = expr_dict['latex'].replace(r\"\\frac\",r\"\\\\frac\")\n",
    "    expr_dict['latex'] = expr_dict['latex'].replace(r\"\\n\",r\"\\\\n\") # \\nabla\n",
    "    expr_dict['latex'] = expr_dict['latex'].replace(r\"\\r\",r\"\\\\r\") # \\rho\n",
    "    expr_dict['latex'] = expr_dict['latex'].replace(r\"\\t\",r\"\\\\t\") # \\times\n",
    "    expr_dict['latex'] = expr_dict['latex'].replace(r\"\\b\",r\"\\\\b\") # \\times\n",
    "    \n",
    "    #print(expr_dict['latex'])\n",
    "    \n",
    "    result_AST = re.sub(r\"pdg(\\d\\d\\d\\d)\", r\"pdg\"+SYMBOL_PREFIX+\"\\\\1\", expr_dict['AST'])\n",
    "    \n",
    "    if \"=\" not in expr_dict['latex']:\n",
    "#        print(\"feed\")\n",
    "        str_to_prnt += \":begin\"+\"\\n\"\n",
    "        str_to_prnt += 'UNWIND [{id:\"'+expr_ID+'\",\\n'\n",
    "        str_to_prnt += '         properties:{lean:\"\", '+'\\n'\n",
    "        str_to_prnt += '                     author_name_latex:\"ben\", '+'\\n'\n",
    "        str_to_prnt += '                     sympy:\"'+result_AST+'\", '+'\\n'\n",
    "        str_to_prnt += '                     latex:\"'+expr_dict['latex']+'\"}}] AS row'+'\\n'\n",
    "        str_to_prnt += 'CREATE (n:feed{id: row.id}) SET n += row.properties;'+'\\n'\n",
    "        str_to_prnt += ':commit'+'\\n'\n",
    "        str_to_prnt += 'CALL db.awaitIndexes(300);'+'\\n'\n",
    "        \n",
    "    else:\n",
    "#        print(\"expr\")\n",
    "        list_of_latex = expr_dict['latex'].split(\"=\")\n",
    "        if len(list_of_latex)!=2:\n",
    "            #print(expr_dict['latex'])\n",
    "            list_of_latex = expr_dict['latex'].split(\" = \")\n",
    "    \n",
    "        str_to_prnt += \":begin\"+\"\\n\"\n",
    "        str_to_prnt += 'UNWIND [{id:\"'+expr_ID+'\",\\n'\n",
    "        str_to_prnt += '         properties:{sympy_lhs:\"\",'+'\\n'\n",
    "        str_to_prnt += '                     reference_latex:\"\",'+'\\n'\n",
    "        str_to_prnt += '                     sympy_rhs:\"\",'+'\\n'\n",
    "        str_to_prnt += '                     description_latex:\"'+expr_dict['notes']+'\",'+'\\n'\n",
    "        str_to_prnt += '                     latex_lhs:\"'+list_of_latex[0].strip()+'\",'+'\\n'\n",
    "        str_to_prnt += '                     latex_rhs:\"'+list_of_latex[1].strip()+'\",'+'\\n'\n",
    "        str_to_prnt += '                     latex_condition:\"\",'+'\\n'\n",
    "        str_to_prnt += '                     name_latex:\"'+expr_dict['name']+'\",'+'\\n'\n",
    "        str_to_prnt += '                     lean:\"\",'+'\\n'\n",
    "        str_to_prnt += '                     author_name_latex:\"ben\",'+'\\n'\n",
    "        str_to_prnt += '                     sympy:\"'+result_AST+'\",'+'\\n'\n",
    "        str_to_prnt += '                     latex_relation:\"=\"}}] AS row'+'\\n'\n",
    "        str_to_prnt += 'CREATE (n:expression{id: row.id}) SET n += row.properties;'+'\\n'\n",
    "        str_to_prnt += ':commit'+'\\n'\n",
    "        str_to_prnt += 'CALL db.awaitIndexes(300);'+'\\n'\n",
    "        \n",
    "with open(\"expr_and_feed.cypher\",\"w\") as file_handle:\n",
    "    file_handle.write(str_to_prnt)"
   ]
  },
  {
   "cell_type": "markdown",
   "id": "c50608f0-833a-4561-a849-9e2652555442",
   "metadata": {},
   "source": [
    "# symbols [done]"
   ]
  },
  {
   "cell_type": "code",
   "execution_count": 7,
   "id": "77f3a221-b656-4edd-97c0-ffc887a43f89",
   "metadata": {
    "tags": []
   },
   "outputs": [],
   "source": [
    "str_to_prnt = \"\"\n",
    "for symbol_ID, symbol_dict in data['symbols'].items():\n",
    "    ref_str = \"\"\n",
    "    if 'references' in symbol_dict.keys():\n",
    "        for this_ref in symbol_dict['references']:\n",
    "            ref_str += this_ref + \" and \"\n",
    "        ref_str = ref_str[:-5]\n",
    "\n",
    "    \n",
    "    str_to_prnt += \":begin\"+\"\\n\"\n",
    "    str_to_prnt += 'UNWIND [{id:\"'+SYMBOL_PREFIX+symbol_ID+'\",\\n'\n",
    "    str_to_prnt += '         properties:{reference_latex:\"'+ref_str+'\",\\n'\n",
    "    str_to_prnt += '                     dimension_time: '+str(symbol_dict['dimensions']['time'])+',\\n'\n",
    "    str_to_prnt += '                     dimension_electric_charge:'+str(symbol_dict['dimensions']['electric charge'])+',\\n'\n",
    "    str_to_prnt += '                     dimension_luminous_intensity:'+str(symbol_dict['dimensions']['luminous intensity'])+',\\n'\n",
    "    str_to_prnt += '                     dimension_length:'+str(symbol_dict['dimensions']['length'])+',\\n'\n",
    "    str_to_prnt += '                     dimension_amount_of_substance:'+str(symbol_dict['dimensions']['amount of substance'])+',\\n'\n",
    "    str_to_prnt += '                     dimension_mass:'+str(symbol_dict['dimensions']['mass'])+',\\n'\n",
    "    str_to_prnt += '                     dimension_temperature:'+str(symbol_dict['dimensions']['temperature'])+',\\n'\n",
    "    str_to_prnt += '                     description_latex:\"\",\\n'\n",
    "    str_to_prnt += '                     latex:\"'+symbol_dict['latex']+'\",\\n'\n",
    "    if 'name' in symbol_dict.keys():\n",
    "        str_to_prnt += '                     name_latex:\"'+symbol_dict['name']+'\",\\n'\n",
    "    else:\n",
    "        str_to_prnt += '                     name_latex:\"\",\\n'\n",
    "    str_to_prnt += '                     variable_or_constant:\"'+symbol_dict['category']+'\",\\n'\n",
    "    str_to_prnt += '                     author_name_latex:\"ben\",\\n'\n",
    "    if type(symbol_dict['scope'])==type([]):\n",
    "        str_to_prnt += '                     scope:\"'+symbol_dict['scope'][0]+'\",\\n'\n",
    "    else:\n",
    "        str_to_prnt += '                     scope:\"'+symbol_dict['scope']+'\",\\n'\n",
    "    str_to_prnt += '                     domain:\"any\"}}] AS row'+'\\n'\n",
    "    str_to_prnt += 'CREATE (n:scalar{id: row.id}) SET n += row.properties SET n:symbol;'+'\\n'\n",
    "    str_to_prnt += ':commit'+'\\n'\n",
    "    str_to_prnt += \"CALL db.awaitIndexes(300);\"+'\\n'\n",
    "\n",
    "    if symbol_dict['category']==\"constant\":\n",
    "    \n",
    "        VALUE_ID = str(random.randint(100000,999999))\n",
    "        str_to_prnt += 'UNWIND [{id:\"'+VALUE_ID+'\",'+'\\n'\n",
    "        str_to_prnt += '// '+str(symbol_dict['values'])+'\\n'\n",
    "        str_to_prnt += '         properties:{number_power:,'+'\\n'\n",
    "        str_to_prnt += '                     number_decimal:,'+'\\n'\n",
    "        str_to_prnt += '                     author_name_latex:\"ben\",'+'\\n'\n",
    "        str_to_prnt += '                     dimension__unit:\"\",'+'\\n'\n",
    "        str_to_prnt += '                     dimension__unit:\"\"}}] AS row'+'\\n'\n",
    "        str_to_prnt += 'CREATE (n:value_with_units{id: row.id}) SET n += row.properties;'+'\\n'\n",
    "\n",
    "        str_to_prnt += ':begin'+'\\n'\n",
    "        str_to_prnt += 'UNWIND [{start: {id:\"'+SYMBOL_PREFIX+symbol_ID+'\"}, end: {id:\"'+VALUE_ID+'\"}, properties:{}}] AS row'+'\\n'\n",
    "        str_to_prnt += 'MATCH (start:scalar{id: row.start.id})'+'\\n'\n",
    "        str_to_prnt += 'MATCH (end:value_with_units{id: row.end.id})'+'\\n'\n",
    "        str_to_prnt += 'CREATE (start)-[r:HAS_VALUE]->(end) SET r += row.properties;'+'\\n'\n",
    "        str_to_prnt += ':commit'+'\\n'\n",
    "        str_to_prnt += \"CALL db.awaitIndexes(300);\"+'\\n'\n",
    "        \n",
    "with open(\"symbols.cypher\",\"w\") as file_handle:\n",
    "    file_handle.write(str_to_prnt)\n"
   ]
  },
  {
   "cell_type": "markdown",
   "id": "8a843bed-abd5-4a37-94a0-94caa1b8f704",
   "metadata": {
    "tags": []
   },
   "source": [
    "# inference rules [enacted; need to account for extra fields]"
   ]
  },
  {
   "cell_type": "markdown",
   "id": "e4fc6320-9c1d-48b3-97b2-6f00d1514957",
   "metadata": {},
   "source": [
    "has to come before steps so that the numeric ID per infrule is consistent"
   ]
  },
  {
   "cell_type": "code",
   "execution_count": 8,
   "id": "aca71fe9-7da8-432c-8d43-dc7118c075f3",
   "metadata": {},
   "outputs": [],
   "source": [
    "list_of_IDs = random.sample(list(range(100, 1000)),len(data['inference rules']))"
   ]
  },
  {
   "cell_type": "code",
   "execution_count": 9,
   "id": "9a588360-0990-4d8a-9e7c-bc6dac2a649e",
   "metadata": {},
   "outputs": [],
   "source": [
    "infrule_ID_dict = {}\n",
    "\n",
    "index = -1\n",
    "for infrule_name, infrule_dict in data['inference rules'].items():\n",
    "    index+=1\n",
    "    infrule_ID_dict[infrule_name] = INFRULE_PREFIX+str(list_of_IDs[index])"
   ]
  },
  {
   "cell_type": "raw",
   "id": "d67e5168-e3ed-4661-8674-9c316f2f7d2c",
   "metadata": {},
   "source": [
    "for name, ID in infrule_ID_dict.items():\n",
    "    print(name, ID)"
   ]
  },
  {
   "cell_type": "code",
   "execution_count": 10,
   "id": "08f63802-b976-448f-884e-bcdad5a82246",
   "metadata": {
    "tags": []
   },
   "outputs": [],
   "source": [
    "str_to_prnt = \"\"\n",
    "for infrule_name, infrule_dict in data['inference rules'].items():\n",
    "    str_to_prnt +=':begin'+'\\n'\n",
    "    str_to_prnt +='UNWIND [{id:\"'+infrule_ID_dict[infrule_name]+'\",'+'\\n'\n",
    "    str_to_prnt +='         properties:{name_latex:\"'+infrule_name+'\",'+'\\n'\n",
    "    str_to_prnt +='                     number_of_inputs:'+str(infrule_dict['number of inputs'])+','+'\\n'\n",
    "    str_to_prnt +='                     number_of_feeds:'+str(infrule_dict['number of feeds'])+','+'\\n'\n",
    "    str_to_prnt +='                     number_of_outputs:'+str(infrule_dict['number of outputs'])+','+'\\n'\n",
    "    str_to_prnt +='                     author_name_latex:\"ben\",'+'\\n'\n",
    "    if len(infrule_dict['notes'])>1:\n",
    "        str_to_prnt +='                     TODO_notes_latex:\"'+infrule_dict['notes'].replace('\"',\"'\")+'\",'+'\\n'\n",
    "    else:\n",
    "        str_to_prnt +='                     TODO_notes_latex:\"\",'+'\\n'\n",
    "    if len(infrule_dict['assumptions'])>1:\n",
    "        str_to_prnt +='                     TODO_assumptions_latex:\"'+infrule_dict['assumptions']+'\",'+'\\n'\n",
    "    else:\n",
    "        str_to_prnt +='                     TODO_assumptions_latex:\"\",'+'\\n'\n",
    "    str_to_prnt +='                     latex:\"'+infrule_dict['latex']+'\"}}] AS row'+'\\n'\n",
    "    str_to_prnt +='CREATE (n:inference_rule{id: row.id}) SET n += row.properties;'+'\\n'\n",
    "    str_to_prnt +=':commit'+'\\n'\n",
    "    str_to_prnt += \"CALL db.awaitIndexes(300);\"+'\\n'\n",
    "    \n",
    "with open(\"infrules.cypher\",\"w\") as file_handle:\n",
    "    file_handle.write(str_to_prnt)\n"
   ]
  },
  {
   "cell_type": "markdown",
   "id": "3e83b24d-9ba5-4073-a540-7a4e0834f651",
   "metadata": {},
   "source": [
    "# derivations [done]"
   ]
  },
  {
   "cell_type": "raw",
   "id": "797dd708-1341-4fc9-b995-9dcc2a73af1f",
   "metadata": {},
   "source": [
    "data['derivations'].keys()"
   ]
  },
  {
   "cell_type": "code",
   "execution_count": 11,
   "id": "23b7aaeb-5f41-4030-808e-a5d7696779ad",
   "metadata": {},
   "outputs": [],
   "source": [
    "str_to_prnt = \"\"\n",
    "for deriv_ID, deriv_dict in data['derivations'].items():\n",
    "    if ((\" \" not in deriv_dict['notes']) and (deriv_dict['notes'].startswith(\"http\"))):\n",
    "        reference = deriv_dict['notes']\n",
    "        abstract = \"\"\n",
    "    else:\n",
    "        abstract = deriv_dict['notes']\n",
    "        reference = \"\"\n",
    "    \n",
    "    str_to_prnt +=':begin'+'\\n'\n",
    "    str_to_prnt +='UNWIND [{id:\"'+deriv_ID+'\",'+'\\n'\n",
    "    str_to_prnt +='         properties:{abstract_latex:\"'+abstract+'\",'+'\\n'\n",
    "    str_to_prnt +='                     name_latex:\"'+deriv_dict['name']+'\",'+'\\n'\n",
    "    str_to_prnt +='                     reference_latex:\"'+reference+'\",'+'\\n'\n",
    "    str_to_prnt +='                     author_name_latex:\"ben\"}}] AS row'+'\\n'\n",
    "    str_to_prnt +='CREATE (n:derivation{id: row.id}) SET n += row.properties;'+'\\n'\n",
    "    str_to_prnt +=':commit'+'\\n'\n",
    "    str_to_prnt += \"CALL db.awaitIndexes(300);\"+'\\n'\n",
    "        \n",
    "with open(\"deriv.cypher\",\"w\") as file_handle:\n",
    "    file_handle.write(str_to_prnt)\n"
   ]
  },
  {
   "cell_type": "markdown",
   "id": "76f16c69-a5de-4b47-a96b-166ca798c927",
   "metadata": {},
   "source": [
    "# steps [done]"
   ]
  },
  {
   "cell_type": "code",
   "execution_count": 12,
   "id": "7383a147-ebb3-4a72-b187-ef27c87d38b5",
   "metadata": {
    "tags": []
   },
   "outputs": [],
   "source": [
    "str_to_prnt = \"\"\n",
    "for deriv_ID, deriv_dict in data['derivations'].items():\n",
    "    for step_id, step_dict in deriv_dict['steps'].items():\n",
    "        \n",
    "        #print(step_dict)\n",
    "        \n",
    "        str_to_prnt += ('UNWIND [{id:\"'+step_id+'\",'+'\\n'\n",
    "                        '         properties:{note_after_step_latex:\"\",'+'\\n'+\n",
    "                        '                     author_name_latex:\"ben\",'+'\\n'+\n",
    "                        '                     note_before_step_latex:\"'+step_dict['notes']+'\"}}] AS row'+'\\n')\n",
    "        str_to_prnt += 'CREATE (n:step{id: row.id}) SET n += row.properties;'+'\\n'\n",
    "        \n",
    "        str_to_prnt += ('UNWIND [{start: {id:\"'+deriv_ID+\n",
    "                               '\"}, end: {id:\"'+step_id+'\"}, '+\n",
    "                           'properties:{sequence_index:'+str(step_dict['linear index'])+'}}] AS row'+'\\n')\n",
    "        str_to_prnt += 'MATCH (start:derivation{id: row.start.id})'+'\\n'\n",
    "        str_to_prnt += 'MATCH (end:step{id: row.end.id})'+'\\n'\n",
    "        str_to_prnt += 'CREATE (start)-[r:HAS_STEP]->(end) SET r += row.properties;'+'\\n'\n",
    "\n",
    "        str_to_prnt += 'UNWIND [{start: {id:\"'+step_id+'\"}, end: {id:\"'+infrule_ID_dict[step_dict['inf rule']]+'\"}, properties:{}}] AS row'+'\\n'\n",
    "        str_to_prnt += 'MATCH (start:step{id: row.start.id})'+'\\n'\n",
    "        str_to_prnt += 'MATCH (end:inference_rule{id: row.end.id})'+'\\n'\n",
    "        str_to_prnt += 'CREATE (start)-[r:HAS_INFERENCE_RULE]->(end) SET r += row.properties;'+'\\n'\n",
    "        \n",
    "        input_index = -1\n",
    "        for input_id in step_dict['inputs']:\n",
    "            input_index +=1\n",
    "            str_to_prnt += ('UNWIND [{start: {id:\"'+step_id+\n",
    "                                  '\"}, end: {id:\"'+data[\"expr local to global\"][input_id]+\n",
    "                         '\"}, properties:{sequence_index:\"'+str(input_index)+'\"}}] AS row'+'\\n')\n",
    "            str_to_prnt += 'MATCH (start:step{id: row.start.id})'+'\\n'\n",
    "            str_to_prnt += 'MATCH (end:expression{id: row.end.id})'+'\\n'\n",
    "            str_to_prnt += 'CREATE (start)-[r:HAS_INPUT]->(end) SET r += row.properties;'+'\\n'\n",
    "        \n",
    "        feed_index = -1\n",
    "        for feed_id in step_dict['feeds']:\n",
    "            feed_index +=1\n",
    "            str_to_prnt += ('UNWIND [{start: {id:\"'+step_id+\n",
    "                                  '\"}, end: {id:\"'+data[\"expr local to global\"][feed_id]+\n",
    "                         '\"}, properties:{sequence_index:\"'+str(feed_index)+'\"}}] AS row'+'\\n')\n",
    "            str_to_prnt += 'MATCH (start:step{id: row.start.id})'+'\\n'\n",
    "            str_to_prnt += 'MATCH (end:feed{id: row.end.id})'+'\\n'\n",
    "            str_to_prnt += 'CREATE (start)-[r:HAS_FEED]->(end) SET r += row.properties;'+'\\n'\n",
    "        \n",
    "        output_index = -1\n",
    "        for output_id in step_dict['outputs']:\n",
    "            output_index +=1\n",
    "            str_to_prnt += ('UNWIND [{start: {id:\"'+step_id+\n",
    "                                  '\"}, end: {id:\"'+data[\"expr local to global\"][output_id]+\n",
    "                         '\"}, properties:{sequence_index:\"'+str(output_index)+'\"}}] AS row'+'\\n')\n",
    "            str_to_prnt += 'MATCH (start:step{id: row.start.id})'+'\\n'\n",
    "            str_to_prnt += 'MATCH (end:expression{id: row.end.id})'+'\\n'\n",
    "            str_to_prnt += 'CREATE (start)-[r:HAS_OUTPUT]->(end) SET r += row.properties;'+'\\n'\n",
    "        str_to_prnt += \"CALL db.awaitIndexes(300);\"+'\\n'\n",
    "        \n",
    "with open(\"steps.cypher\",\"w\") as file_handle:\n",
    "    file_handle.write(str_to_prnt)"
   ]
  },
  {
   "cell_type": "markdown",
   "id": "47663a8f-0552-44f2-98a4-eec784e533aa",
   "metadata": {},
   "source": [
    "# units [won't do]"
   ]
  },
  {
   "cell_type": "markdown",
   "id": "9453d2ff-9b82-4965-a3c2-d6b109627c8b",
   "metadata": {},
   "source": [
    "content from `units` has been moved into \n",
    "- https://github.com/allofphysicsgraph/ui_v8_website_flask_neo4j/issues/42\n",
    "- `list_of_valid.py`"
   ]
  },
  {
   "cell_type": "code",
   "execution_count": 13,
   "id": "336b7c51-f9e8-4cc0-97eb-2cee3c3d8202",
   "metadata": {},
   "outputs": [
    {
     "data": {
      "text/plain": [
       "dict_keys(['Ampere', 'Farad', 'Kelvin', 'Tesla', 'hand', 'kilogram', 'light-year', 'meter', 'mol', 'parsec', 'second', 'sol'])"
      ]
     },
     "execution_count": 13,
     "metadata": {},
     "output_type": "execute_result"
    }
   ],
   "source": [
    "data['units'].keys()"
   ]
  },
  {
   "cell_type": "raw",
   "id": "687e5a0f-488d-403d-a498-351001ed2fe5",
   "metadata": {},
   "source": [
    "for unit_name, unit_dict in data['units'].items():\n",
    "    print(unit_name)\n",
    "    print(unit_dict)"
   ]
  },
  {
   "cell_type": "raw",
   "id": "84d4036d-ed3f-4553-9c0c-4ba5ae719457",
   "metadata": {},
   "source": [
    "list_of_unit_dicts=[]\n",
    "list_of_unit_references = []\n",
    "for unit_name, unit_dict in data['units'].items():\n",
    "    this_unit = {}\n",
    "    this_unit['unit_name_text'] = unit_name\n",
    "    #print(unit_dict.keys())\n",
    "    this_unit[\"measure\"]=unit_dict['measure']\n",
    "    for name, val in unit_dict['dimensions'].items():\n",
    "        this_unit[name] = val\n",
    "    #print(unit_dict['references'])\n",
    "    for this_ref in eval(str(unit_dict['references'])):\n",
    "        list_of_unit_references.append({'unit_name_text': unit_name,\n",
    "                                        'reference_URL': this_ref})\n",
    "    list_of_unit_dicts.append(this_unit)"
   ]
  },
  {
   "cell_type": "markdown",
   "id": "2e5d025c-7930-4db5-a60e-52be37383bc4",
   "metadata": {},
   "source": [
    "# operators [enacted; need to account for extra fields]"
   ]
  },
  {
   "cell_type": "code",
   "execution_count": 14,
   "id": "6717a1ba-c9f3-448a-a1dd-aeaa9e9a8d85",
   "metadata": {},
   "outputs": [
    {
     "data": {
      "text/plain": [
       "dict_keys(['addition', 'cosine', 'cross product', 'curl', 'definite integral', 'divergence', 'division', 'dot product', 'element-wise addition', 'equals', 'function', 'gradient', 'indefinite intergral', 'multiplication', 'sine', 'spatial vector differential', 'subtraction', 'summation'])"
      ]
     },
     "execution_count": 14,
     "metadata": {},
     "output_type": "execute_result"
    }
   ],
   "source": [
    "data['operators'].keys()"
   ]
  },
  {
   "cell_type": "code",
   "execution_count": 15,
   "id": "b24ed22c-ea03-4730-b4c5-3e4b15595e2a",
   "metadata": {},
   "outputs": [],
   "source": [
    "list_of_IDs = random.sample(list(range(100, 1000)),len(data['operators']))"
   ]
  },
  {
   "cell_type": "code",
   "execution_count": 16,
   "id": "30c9f099-d23c-40b7-8b58-f7815f220423",
   "metadata": {
    "tags": []
   },
   "outputs": [],
   "source": [
    "str_to_prnt = \"\"\n",
    "index=-1\n",
    "for operator_name, op_dict in data['operators'].items():\n",
    "    index+=1\n",
    "    \n",
    "    if operator_name==\"equals\":\n",
    "        str_to_prnt +=':begin'+'\\n'\n",
    "        str_to_prnt +='UNWIND [{id:\"'+OPERATOR_PREFIX+str(list_of_IDs[index])+'\",'+'\\n'\n",
    "        str_to_prnt +='         properties:{name_latex:\"equals\",'+'\\n'\n",
    "        str_to_prnt +='                     reference_latex:\"\",'+'\\n'\n",
    "        str_to_prnt +='                     author_name_latex:\"ben\",'+'\\n'\n",
    "        str_to_prnt +='                     description_latex:\"LHS = RHS\",'+'\\n'\n",
    "        str_to_prnt +='                     TODO_scope:'+str(op_dict['scope'])+',\\n'\n",
    "        str_to_prnt +='                     TODO_latex_macro_list:'+str(op_dict['latex macros'])+',\\n'\n",
    "        str_to_prnt +='                     latex:\"=\"}}] AS row'+'\\n'\n",
    "        str_to_prnt +='CREATE (n:relation{id: row.id}) SET n += row.properties;'+'\\n'\n",
    "        str_to_prnt +=':commit'+'\\n'\n",
    "        str_to_prnt += \"CALL db.awaitIndexes(300);\"+'\\n'\n",
    "    else:\n",
    "        str_to_prnt +=':begin'+'\\n'\n",
    "        str_to_prnt +='UNWIND [{id:\"'+OPERATOR_PREFIX+str(list_of_IDs[index])+'\",'+'\\n'\n",
    "        str_to_prnt +='         properties:{name_latex:\"'+operator_name+'\",'+'\\n'\n",
    "        str_to_prnt +='                     reference_latex:\"\",'+'\\n'\n",
    "        str_to_prnt +='                     argument_count:'+str(op_dict['argument count'])+','+'\\n'\n",
    "        str_to_prnt +='                     author_name_latex:\"ben\",'+'\\n'\n",
    "        str_to_prnt +='                     description_latex:\"\",'+'\\n'\n",
    "        str_to_prnt +='                     TODO_scope:'+str(op_dict['scope'])+',\\n'\n",
    "        str_to_prnt +='                     TODO_latex_macro_list:'+str(op_dict['latex macros'])+',\\n'\n",
    "        str_to_prnt +='                     latex:\"'+op_dict['latex']+'\"}}] AS row'+'\\n'\n",
    "        str_to_prnt +='CREATE (n:operation{id: row.id}) SET n += row.properties;'+'\\n'\n",
    "        str_to_prnt +=':commit'+'\\n'\n",
    "        str_to_prnt += \"CALL db.awaitIndexes(300);\"+'\\n'\n",
    "\n",
    "with open(\"operators.cypher\",\"w\") as file_handle:\n",
    "    file_handle.write(str_to_prnt)"
   ]
  },
  {
   "cell_type": "markdown",
   "id": "2027e067-6095-4b4f-9f94-d0397112798d",
   "metadata": {},
   "source": [
    "# measures [won't do]"
   ]
  },
  {
   "cell_type": "code",
   "execution_count": 17,
   "id": "8a821235-7cf1-4975-9416-7d1623702411",
   "metadata": {},
   "outputs": [
    {
     "data": {
      "text/plain": [
       "dict_keys(['amount of substance', 'electric current', 'length', 'luminous intensity', 'mass', 'temperature', 'time'])"
      ]
     },
     "execution_count": 17,
     "metadata": {},
     "output_type": "execute_result"
    }
   ],
   "source": [
    "data['measures'].keys()"
   ]
  },
  {
   "cell_type": "raw",
   "id": "fccd6855-d2e2-4f61-a5e1-5adc6fdc42bc",
   "metadata": {
    "tags": []
   },
   "source": [
    "list_of_measure_dicts = []\n",
    "list_of_measure_refences_dict = []\n",
    "for measure_name, measure_dict in data['measures'].items():\n",
    "    this_measure = {}\n",
    "    this_measure['measure_name'] = measure_name\n",
    "    if 'references' in measure_dict.keys():\n",
    "        for this_ref in measure_dict['references']:\n",
    "            list_of_measure_refences_dict.append({'measure_name': measure_name, \n",
    "                                                 'reference_URL': this_ref})"
   ]
  },
  {
   "cell_type": "code",
   "execution_count": null,
   "id": "1dbbe345-8548-41fc-ac94-6f65c46756c7",
   "metadata": {},
   "outputs": [],
   "source": []
  }
 ],
 "metadata": {
  "kernelspec": {
   "display_name": "Python 3 (ipykernel)",
   "language": "python",
   "name": "python3"
  },
  "language_info": {
   "codemirror_mode": {
    "name": "ipython",
    "version": 3
   },
   "file_extension": ".py",
   "mimetype": "text/x-python",
   "name": "python",
   "nbconvert_exporter": "python",
   "pygments_lexer": "ipython3",
   "version": "3.10.8"
  }
 },
 "nbformat": 4,
 "nbformat_minor": 5
}
