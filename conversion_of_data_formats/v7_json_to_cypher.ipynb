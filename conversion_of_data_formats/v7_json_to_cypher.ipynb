{
 "cells": [
  {
   "cell_type": "markdown",
   "id": "c54104c4-c4e8-4bbb-89f6-0ce36577c8b6",
   "metadata": {},
   "source": [
    "Convert the Physics Derivation Graph's v7 JSON format to Neo4j Cypher\n",
    "\n",
    "To load the data into ui_v8,\n",
    "\n",
    "```bash\n",
    "docker exec `docker ps | grep community | cut -d' ' -f1` bin/cypher-shell --file dumping_grounds/symbols.cypher \n",
    "docker exec `docker ps | grep community | cut -d' ' -f1` bin/cypher-shell --file dumping_grounds/infrules.cypher \n",
    "```"
   ]
  },
  {
   "cell_type": "code",
   "execution_count": 1,
   "id": "8602c4dc-2463-4b97-bbb2-32f4d90fccc8",
   "metadata": {},
   "outputs": [],
   "source": [
    "import json\n",
    "#import pandas\n",
    "import time\n",
    "import random"
   ]
  },
  {
   "cell_type": "markdown",
   "id": "cdcd9b95-9af0-4bde-931c-c34c432512b6",
   "metadata": {},
   "source": [
    "# data"
   ]
  },
  {
   "cell_type": "code",
   "execution_count": 2,
   "id": "bfbf85e0-2548-45a4-bfc0-64a862d98912",
   "metadata": {},
   "outputs": [],
   "source": [
    "# from v7_pickle_web_interface/flask/\n",
    "with open('data.json','r') as file_handle:\n",
    "    data = json.loads(file_handle.read())"
   ]
  },
  {
   "cell_type": "code",
   "execution_count": 3,
   "id": "6a4a14a5-c7d2-4b87-bcb9-5566a83f06b3",
   "metadata": {},
   "outputs": [
    {
     "data": {
      "text/plain": [
       "dict_keys(['derivations', 'expr local to global', 'expressions', 'inference rules', 'measures', 'operators', 'symbols', 'units'])"
      ]
     },
     "execution_count": 3,
     "metadata": {},
     "output_type": "execute_result"
    }
   ],
   "source": [
    "data.keys()"
   ]
  },
  {
   "cell_type": "markdown",
   "id": "99d28266-f9a4-4d64-b4b4-f2008fcf1e08",
   "metadata": {
    "jupyter": {
     "outputs_hidden": true
    },
    "tags": []
   },
   "source": [
    "\n",
    "`expr local to global` is made irrelevant by the use of a property graph"
   ]
  },
  {
   "cell_type": "markdown",
   "id": "c50608f0-833a-4561-a849-9e2652555442",
   "metadata": {},
   "source": [
    "# symbols"
   ]
  },
  {
   "cell_type": "code",
   "execution_count": 4,
   "id": "77f3a221-b656-4edd-97c0-ffc887a43f89",
   "metadata": {
    "tags": []
   },
   "outputs": [
    {
     "name": "stdout",
     "output_type": "stream",
     "text": [
      "TODO: \\hbar has value list [{'units': 'meter^2 kilogram second^-1', 'value': '1.0545718*10^{-34}'}]\n",
      "\n",
      "TODO: k_{Boltzmann} has value list [{'units': 'meter^2 kilogram second^-2 Kelvin^-1', 'value': '1.38064852 10^{-23}'}]\n",
      "\n",
      "TODO: \\alpha has value list [{'units': 'dimensionless', 'value': '1/137.03599999'}]\n",
      "\n",
      "TODO: e has value list [{'units': 'Columb', 'value': '1.602*10^{-19}'}]\n",
      "\n",
      "TODO: m_e has value list [{'units': 'kg', 'value': '9.1093837015E^{-31}'}]\n",
      "\n",
      "TODO: \\exp has value list [{'units': 'unitless', 'value': '2.71828'}]\n",
      "\n",
      "TODO: r_{\\rm Bohr} has value list [{'units': 'm', 'value': '5.29E^{-11}'}]\n",
      "\n",
      "TODO: \\pi has value list [{'units': 'dimensionless', 'value': '3.1415'}]\n",
      "\n",
      "TODO: r_{\\rm Earth} has value list [{'units': 'm', 'value': '6.3781*10^{6}'}]\n",
      "\n",
      "TODO: c has value list [{'units': 'meters/second', 'value': '299792458'}]\n",
      "\n",
      "TODO: v_u has value list [{'units': 'm/s', 'value': '36100'}]\n",
      "\n",
      "TODO: m_{\\rm Earth} has value list [{'units': 'kg', 'value': '5.97237*10^24'}]\n",
      "\n",
      "TODO: m_p has value list [{'units': 'kg', 'value': '1.67262192369E^{-27}'}]\n",
      "\n",
      "TODO: N_A has value list [{'units': 'mol^-1', 'value': '6.02214086*10^{23}'}]\n",
      "\n",
      "TODO: r_{\\rm Earth\\ orbit} has value list [{'units': 'km', 'value': '1.496*10^8'}]\n",
      "\n",
      "TODO: \\mu_0 has value list [{'units': 'N/A^2', 'value': '1.25663706212E^{-6}'}]\n",
      "\n",
      "TODO: G has value list [{'units': 'm^3 * kg^-1 * s^-2', 'value': '6.67430*10^{-11}'}]\n",
      "\n",
      "TODO: g_{\\rm Earth} has value list [{'units': 'm * s^-2', 'value': '9.80665'}]\n",
      "\n",
      "TODO: \\epsilon_0 has value list [{'units': 'F/m', 'value': '8.8541878128E-{12}'}]\n",
      "\n",
      "TODO: R has value list [{'units': 'J⋅K^{−1} mol^{−1}', 'value': '8.31446261815324'}]\n",
      "\n"
     ]
    }
   ],
   "source": [
    "str_to_prnt = \"\"\n",
    "for symbol_ID, symbol_dict in data['symbols'].items():\n",
    "    ref_str = \"\"\n",
    "    if 'references' in symbol_dict.keys():\n",
    "        for this_ref in symbol_dict['references']:\n",
    "            ref_str += this_ref + \" and \"\n",
    "        ref_str = ref_str[:-5]\n",
    "\n",
    "    \n",
    "    str_to_prnt += \":begin\"+\"\\n\"\n",
    "    str_to_prnt += 'UNWIND [{id:\"000'+symbol_ID+'\",\\n'\n",
    "    str_to_prnt += '         properties:{reference_latex:\"'+ref_str+'\",\\n'\n",
    "    str_to_prnt += '                     dimension_time: '+str(symbol_dict['dimensions']['time'])+',\\n'\n",
    "    str_to_prnt += '                     dimension_electric_charge:'+str(symbol_dict['dimensions']['electric charge'])+',\\n'\n",
    "    str_to_prnt += '                     dimension_luminous_intensity:'+str(symbol_dict['dimensions']['luminous intensity'])+',\\n'\n",
    "    str_to_prnt += '                     dimension_length:'+str(symbol_dict['dimensions']['length'])+',\\n'\n",
    "    str_to_prnt += '                     dimension_amount_of_substance:'+str(symbol_dict['dimensions']['amount of substance'])+',\\n'\n",
    "    str_to_prnt += '                     dimension_mass:'+str(symbol_dict['dimensions']['mass'])+',\\n'\n",
    "    str_to_prnt += '                     dimension_temperature:'+str(symbol_dict['dimensions']['temperature'])+',\\n'\n",
    "    str_to_prnt += '                     description_latex:\"\",\\n'\n",
    "    str_to_prnt += '                     latex:\"'+symbol_dict['latex']+'\",\\n'\n",
    "    if 'name' in symbol_dict.keys():\n",
    "        str_to_prnt += '                     name_latex:\"'+symbol_dict['name']+'\",\\n'\n",
    "    else:\n",
    "        str_to_prnt += '                     name_latex:\"\",\\n'\n",
    "    str_to_prnt += '                     variable_or_constant:\"'+symbol_dict['category']+'\",\\n'\n",
    "    str_to_prnt += '                     author_name_latex:\"ben\",\\n'\n",
    "    if type(symbol_dict['scope'])==type([]):\n",
    "        str_to_prnt += '                     scope:\"'+symbol_dict['scope'][0]+'\",\\n'\n",
    "    else:\n",
    "        str_to_prnt += '                     scope:\"'+symbol_dict['scope']+'\",\\n'\n",
    "    str_to_prnt += '                     domain:\"any\"}}] AS row'+'\\n'\n",
    "    str_to_prnt += 'CREATE (n:scalar{id: row.id}) SET n += row.properties SET n:symbol;'+'\\n'\n",
    "    str_to_prnt += ':commit'+'\\n'\n",
    "    str_to_prnt += \"CALL db.awaitIndexes(300);\"+'\\n'\n",
    "\n",
    "    if symbol_dict['category']==\"constant\":\n",
    "        print(\"TODO: \"+symbol_dict['latex']+\" has value list \"+str(symbol_dict['values'])+\"\\n\")\n",
    "    \n",
    "with open(\"symbols.cypher\",\"w\") as file_handle:\n",
    "    file_handle.write(str_to_prnt)\n"
   ]
  },
  {
   "cell_type": "markdown",
   "id": "3e83b24d-9ba5-4073-a540-7a4e0834f651",
   "metadata": {},
   "source": [
    "# derivations"
   ]
  },
  {
   "cell_type": "markdown",
   "id": "47663a8f-0552-44f2-98a4-eec784e533aa",
   "metadata": {},
   "source": [
    "# units"
   ]
  },
  {
   "cell_type": "raw",
   "id": "c9eb03d8-1127-45d5-aafe-3ae6dae419b1",
   "metadata": {},
   "source": [
    "data['units'].keys()"
   ]
  },
  {
   "cell_type": "raw",
   "id": "84d4036d-ed3f-4553-9c0c-4ba5ae719457",
   "metadata": {},
   "source": [
    "list_of_unit_dicts=[]\n",
    "list_of_unit_references = []\n",
    "for unit_name, unit_dict in data['units'].items():\n",
    "    this_unit = {}\n",
    "    this_unit['unit_name_text'] = unit_name\n",
    "    #print(unit_dict.keys())\n",
    "    this_unit[\"measure\"]=unit_dict['measure']\n",
    "    for name, val in unit_dict['dimensions'].items():\n",
    "        this_unit[name] = val\n",
    "    #print(unit_dict['references'])\n",
    "    for this_ref in eval(str(unit_dict['references'])):\n",
    "        list_of_unit_references.append({'unit_name_text': unit_name,\n",
    "                                        'reference_URL': this_ref})\n",
    "    list_of_unit_dicts.append(this_unit)"
   ]
  },
  {
   "cell_type": "markdown",
   "id": "100bebcf-bcd7-4f3e-b606-403325915c81",
   "metadata": {},
   "source": [
    "# symbols"
   ]
  },
  {
   "cell_type": "raw",
   "id": "d6f37c3b-44ff-42e1-b2d6-1daf038a7a1d",
   "metadata": {
    "tags": []
   },
   "source": [
    "list_of_symbol_dicts=[]\n",
    "list_of_symbol_references = []\n",
    "list_of_symbol_scope = []\n",
    "for symbol_id, symbol_dict in data['symbols'].items():\n",
    "    #print(symbol_id)\n",
    "    this_symbol={}\n",
    "    this_symbol['symbol_ID'] = symbol_id\n",
    "    #print(symbol_dict.keys())\n",
    "    this_symbol['category'] = symbol_dict['category']\n",
    "    this_symbol['author'] = symbol_dict['author']\n",
    "    this_symbol['creation_date'] = symbol_dict['creation date']\n",
    "    this_symbol['latex'] = symbol_dict['latex']\n",
    "    if 'references' in this_symbol.keys():\n",
    "        for this_ref in symbol_dict['references']:\n",
    "            list_of_symbol_references.append({'symbol_ID': symbol_id, \n",
    "                                              'reference_URL': this_ref})\n",
    "\n",
    "    for name, val in symbol_dict['dimensions'].items():\n",
    "            this_symbol[name] = val\n",
    "    if 'name' in this_symbol.keys():\n",
    "        this_symbol['name'] = symbol_dict['name']\n",
    "    else:\n",
    "        this_symbol['name'] = \"\"\n",
    "    if isinstance(symbol_dict['scope'], list):\n",
    "        for this_scope in symbol_dict['scope']:\n",
    "            list_of_symbol_scope.append({'symbol_ID': symbol_id, \n",
    "                                         'scope': this_scope})\n",
    "    elif isinstance(symbol_dict['scope'], str):\n",
    "        list_of_symbol_scope.append({'symbol_ID': symbol_id, \n",
    "                                     'scope':symbol_dict['scope']})\n",
    "    else:\n",
    "        print(\"ERROR: unrecognized type for \")\n",
    "        print(symbol_dict['scope'])\n",
    "    list_of_symbol_dicts.append(this_symbol)"
   ]
  },
  {
   "cell_type": "markdown",
   "id": "2e5d025c-7930-4db5-a60e-52be37383bc4",
   "metadata": {},
   "source": [
    "# operators"
   ]
  },
  {
   "cell_type": "raw",
   "id": "5c18d884-52ca-418a-8052-96e04d08bcf3",
   "metadata": {
    "tags": []
   },
   "source": [
    "list_of_operator_dicts=[]\n",
    "list_of_operator_scope_dicts = []\n",
    "list_of_operator_macros = []\n",
    "\n",
    "for operator_name, op_dict in data['operators'].items():\n",
    "    this_operator_dict = {}\n",
    "    this_operator_dict['operator_name_text'] = operator_name\n",
    "    this_operator_dict['integer_argument_count'] = op_dict['argument count']\n",
    "    this_operator_dict['latex'] = op_dict['latex']\n",
    "\n",
    "    for this_macro in op_dict['latex macros']:\n",
    "        list_of_operator_macros.append({'operator_name_text':operator_name, \n",
    "                                        'macro': this_macro})\n",
    "    list_of_operator_dicts.append(this_operator_dict)\n",
    "    \n",
    "    for this_scope in op_dict['scope']:\n",
    "        list_of_operator_scope_dicts.append({'operator_name_text':operator_name, \n",
    "                                              'scope':this_scope})"
   ]
  },
  {
   "cell_type": "markdown",
   "id": "8a843bed-abd5-4a37-94a0-94caa1b8f704",
   "metadata": {},
   "source": [
    "# inference rules"
   ]
  },
  {
   "cell_type": "code",
   "execution_count": 5,
   "id": "08f63802-b976-448f-884e-bcdad5a82246",
   "metadata": {
    "tags": []
   },
   "outputs": [],
   "source": [
    "str_to_prnt = \"\"\n",
    "list_of_IDs = random.sample(list(range(100, 1000)),len(data['inference rules']))\n",
    "\n",
    "index = -1\n",
    "for infrule_name, infrule_dict in data['inference rules'].items():\n",
    "    index+=1\n",
    "    str_to_prnt +=':begin'+'\\n'\n",
    "    str_to_prnt +='UNWIND [{id:\"111'+str(list_of_IDs[index])+'\",'+'\\n'\n",
    "    str_to_prnt +='         properties:{name_latex:\"'+infrule_name+'\",'+'\\n'\n",
    "    str_to_prnt +='                     number_of_inputs:'+str(infrule_dict['number of inputs'])+','+'\\n'\n",
    "    str_to_prnt +='                     number_of_feeds:'+str(infrule_dict['number of feeds'])+','+'\\n'\n",
    "    str_to_prnt +='                     number_of_outputs:'+str(infrule_dict['number of outputs'])+','+'\\n'\n",
    "    str_to_prnt +='                     author_name_latex:\"ben\",'+'\\n'\n",
    "    if len(infrule_dict['notes'])>1:\n",
    "        str_to_prnt +='                     notes_latex:\"'+infrule_dict['notes'].replace('\"',\"'\")+'\",'+'\\n'\n",
    "    else:\n",
    "        str_to_prnt +='                     notes_latex:\"\",'+'\\n'\n",
    "    if len(infrule_dict['assumptions'])>1:\n",
    "        str_to_prnt +='                     assumptions_latex:\"'+infrule_dict['assumptions']+'\",'+'\\n'\n",
    "    else:\n",
    "        str_to_prnt +='                     assumptions_latex:\"\",'+'\\n'\n",
    "    str_to_prnt +='                     latex:\"'+infrule_dict['latex']+'\"}}] AS row'+'\\n'\n",
    "    str_to_prnt +='CREATE (n:inference_rule{id: row.id}) SET n += row.properties;'+'\\n'\n",
    "    str_to_prnt +=':commit'+'\\n'\n",
    "    str_to_prnt += \"CALL db.awaitIndexes(300);\"+'\\n'\n",
    "    \n",
    "with open(\"infrules.cypher\",\"w\") as file_handle:\n",
    "    file_handle.write(str_to_prnt)\n"
   ]
  },
  {
   "cell_type": "markdown",
   "id": "2027e067-6095-4b4f-9f94-d0397112798d",
   "metadata": {},
   "source": [
    "# measures"
   ]
  },
  {
   "cell_type": "raw",
   "id": "fccd6855-d2e2-4f61-a5e1-5adc6fdc42bc",
   "metadata": {
    "tags": []
   },
   "source": [
    "list_of_measure_dicts = []\n",
    "list_of_measure_refences_dict = []\n",
    "for measure_name, measure_dict in data['measures'].items():\n",
    "    this_measure = {}\n",
    "    this_measure['measure_name'] = measure_name\n",
    "    if 'references' in measure_dict.keys():\n",
    "        for this_ref in measure_dict['references']:\n",
    "            list_of_measure_refences_dict.append({'measure_name': measure_name, \n",
    "                                                 'reference_URL': this_ref})"
   ]
  },
  {
   "cell_type": "code",
   "execution_count": null,
   "id": "1dbbe345-8548-41fc-ac94-6f65c46756c7",
   "metadata": {},
   "outputs": [],
   "source": []
  }
 ],
 "metadata": {
  "kernelspec": {
   "display_name": "Python 3 (ipykernel)",
   "language": "python",
   "name": "python3"
  },
  "language_info": {
   "codemirror_mode": {
    "name": "ipython",
    "version": 3
   },
   "file_extension": ".py",
   "mimetype": "text/x-python",
   "name": "python",
   "nbconvert_exporter": "python",
   "pygments_lexer": "ipython3",
   "version": "3.10.8"
  }
 },
 "nbformat": 4,
 "nbformat_minor": 5
}
